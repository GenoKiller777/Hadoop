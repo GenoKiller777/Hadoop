{
  "nbformat": 4,
  "nbformat_minor": 0,
  "metadata": {
    "colab": {
      "provenance": [],
      "toc_visible": true,
      "authorship_tag": "ABX9TyOAPX85Pi1sNNDPIY7FSXTd",
      "include_colab_link": true
    },
    "kernelspec": {
      "name": "python3",
      "display_name": "Python 3"
    },
    "language_info": {
      "name": "python"
    }
  },
  "cells": [
    {
      "cell_type": "markdown",
      "metadata": {
        "id": "view-in-github",
        "colab_type": "text"
      },
      "source": [
        "<a href=\"https://colab.research.google.com/github/GenoKiller777/Hadoop/blob/main/SparkHadoop.ipynb\" target=\"_parent\"><img src=\"https://colab.research.google.com/assets/colab-badge.svg\" alt=\"Open In Colab\"/></a>"
      ]
    },
    {
      "cell_type": "code",
      "source": [
        "from google.colab import files\n",
        "\n",
        "uploaded = files.upload()\n",
        "\n",
        "for fn in uploaded.keys():\n",
        "  print('User uploaded file \"{name}\" with length {length} bytes'.format(\n",
        "      name=fn, length=len(uploaded[fn])))"
      ],
      "metadata": {
        "colab": {
          "base_uri": "https://localhost:8080/",
          "height": 194
        },
        "id": "ja6WbWWfuLC3",
        "outputId": "c15389ea-c140-4cb9-cf57-11e2dd5cf3e6"
      },
      "execution_count": 1,
      "outputs": [
        {
          "output_type": "display_data",
          "data": {
            "text/plain": [
              "<IPython.core.display.HTML object>"
            ],
            "text/html": [
              "\n",
              "     <input type=\"file\" id=\"files-97bede45-01ae-4bb6-8a04-b31497dddcb5\" name=\"files[]\" multiple disabled\n",
              "        style=\"border:none\" />\n",
              "     <output id=\"result-97bede45-01ae-4bb6-8a04-b31497dddcb5\">\n",
              "      Upload widget is only available when the cell has been executed in the\n",
              "      current browser session. Please rerun this cell to enable.\n",
              "      </output>\n",
              "      <script>// Copyright 2017 Google LLC\n",
              "//\n",
              "// Licensed under the Apache License, Version 2.0 (the \"License\");\n",
              "// you may not use this file except in compliance with the License.\n",
              "// You may obtain a copy of the License at\n",
              "//\n",
              "//      http://www.apache.org/licenses/LICENSE-2.0\n",
              "//\n",
              "// Unless required by applicable law or agreed to in writing, software\n",
              "// distributed under the License is distributed on an \"AS IS\" BASIS,\n",
              "// WITHOUT WARRANTIES OR CONDITIONS OF ANY KIND, either express or implied.\n",
              "// See the License for the specific language governing permissions and\n",
              "// limitations under the License.\n",
              "\n",
              "/**\n",
              " * @fileoverview Helpers for google.colab Python module.\n",
              " */\n",
              "(function(scope) {\n",
              "function span(text, styleAttributes = {}) {\n",
              "  const element = document.createElement('span');\n",
              "  element.textContent = text;\n",
              "  for (const key of Object.keys(styleAttributes)) {\n",
              "    element.style[key] = styleAttributes[key];\n",
              "  }\n",
              "  return element;\n",
              "}\n",
              "\n",
              "// Max number of bytes which will be uploaded at a time.\n",
              "const MAX_PAYLOAD_SIZE = 100 * 1024;\n",
              "\n",
              "function _uploadFiles(inputId, outputId) {\n",
              "  const steps = uploadFilesStep(inputId, outputId);\n",
              "  const outputElement = document.getElementById(outputId);\n",
              "  // Cache steps on the outputElement to make it available for the next call\n",
              "  // to uploadFilesContinue from Python.\n",
              "  outputElement.steps = steps;\n",
              "\n",
              "  return _uploadFilesContinue(outputId);\n",
              "}\n",
              "\n",
              "// This is roughly an async generator (not supported in the browser yet),\n",
              "// where there are multiple asynchronous steps and the Python side is going\n",
              "// to poll for completion of each step.\n",
              "// This uses a Promise to block the python side on completion of each step,\n",
              "// then passes the result of the previous step as the input to the next step.\n",
              "function _uploadFilesContinue(outputId) {\n",
              "  const outputElement = document.getElementById(outputId);\n",
              "  const steps = outputElement.steps;\n",
              "\n",
              "  const next = steps.next(outputElement.lastPromiseValue);\n",
              "  return Promise.resolve(next.value.promise).then((value) => {\n",
              "    // Cache the last promise value to make it available to the next\n",
              "    // step of the generator.\n",
              "    outputElement.lastPromiseValue = value;\n",
              "    return next.value.response;\n",
              "  });\n",
              "}\n",
              "\n",
              "/**\n",
              " * Generator function which is called between each async step of the upload\n",
              " * process.\n",
              " * @param {string} inputId Element ID of the input file picker element.\n",
              " * @param {string} outputId Element ID of the output display.\n",
              " * @return {!Iterable<!Object>} Iterable of next steps.\n",
              " */\n",
              "function* uploadFilesStep(inputId, outputId) {\n",
              "  const inputElement = document.getElementById(inputId);\n",
              "  inputElement.disabled = false;\n",
              "\n",
              "  const outputElement = document.getElementById(outputId);\n",
              "  outputElement.innerHTML = '';\n",
              "\n",
              "  const pickedPromise = new Promise((resolve) => {\n",
              "    inputElement.addEventListener('change', (e) => {\n",
              "      resolve(e.target.files);\n",
              "    });\n",
              "  });\n",
              "\n",
              "  const cancel = document.createElement('button');\n",
              "  inputElement.parentElement.appendChild(cancel);\n",
              "  cancel.textContent = 'Cancel upload';\n",
              "  const cancelPromise = new Promise((resolve) => {\n",
              "    cancel.onclick = () => {\n",
              "      resolve(null);\n",
              "    };\n",
              "  });\n",
              "\n",
              "  // Wait for the user to pick the files.\n",
              "  const files = yield {\n",
              "    promise: Promise.race([pickedPromise, cancelPromise]),\n",
              "    response: {\n",
              "      action: 'starting',\n",
              "    }\n",
              "  };\n",
              "\n",
              "  cancel.remove();\n",
              "\n",
              "  // Disable the input element since further picks are not allowed.\n",
              "  inputElement.disabled = true;\n",
              "\n",
              "  if (!files) {\n",
              "    return {\n",
              "      response: {\n",
              "        action: 'complete',\n",
              "      }\n",
              "    };\n",
              "  }\n",
              "\n",
              "  for (const file of files) {\n",
              "    const li = document.createElement('li');\n",
              "    li.append(span(file.name, {fontWeight: 'bold'}));\n",
              "    li.append(span(\n",
              "        `(${file.type || 'n/a'}) - ${file.size} bytes, ` +\n",
              "        `last modified: ${\n",
              "            file.lastModifiedDate ? file.lastModifiedDate.toLocaleDateString() :\n",
              "                                    'n/a'} - `));\n",
              "    const percent = span('0% done');\n",
              "    li.appendChild(percent);\n",
              "\n",
              "    outputElement.appendChild(li);\n",
              "\n",
              "    const fileDataPromise = new Promise((resolve) => {\n",
              "      const reader = new FileReader();\n",
              "      reader.onload = (e) => {\n",
              "        resolve(e.target.result);\n",
              "      };\n",
              "      reader.readAsArrayBuffer(file);\n",
              "    });\n",
              "    // Wait for the data to be ready.\n",
              "    let fileData = yield {\n",
              "      promise: fileDataPromise,\n",
              "      response: {\n",
              "        action: 'continue',\n",
              "      }\n",
              "    };\n",
              "\n",
              "    // Use a chunked sending to avoid message size limits. See b/62115660.\n",
              "    let position = 0;\n",
              "    do {\n",
              "      const length = Math.min(fileData.byteLength - position, MAX_PAYLOAD_SIZE);\n",
              "      const chunk = new Uint8Array(fileData, position, length);\n",
              "      position += length;\n",
              "\n",
              "      const base64 = btoa(String.fromCharCode.apply(null, chunk));\n",
              "      yield {\n",
              "        response: {\n",
              "          action: 'append',\n",
              "          file: file.name,\n",
              "          data: base64,\n",
              "        },\n",
              "      };\n",
              "\n",
              "      let percentDone = fileData.byteLength === 0 ?\n",
              "          100 :\n",
              "          Math.round((position / fileData.byteLength) * 100);\n",
              "      percent.textContent = `${percentDone}% done`;\n",
              "\n",
              "    } while (position < fileData.byteLength);\n",
              "  }\n",
              "\n",
              "  // All done.\n",
              "  yield {\n",
              "    response: {\n",
              "      action: 'complete',\n",
              "    }\n",
              "  };\n",
              "}\n",
              "\n",
              "scope.google = scope.google || {};\n",
              "scope.google.colab = scope.google.colab || {};\n",
              "scope.google.colab._files = {\n",
              "  _uploadFiles,\n",
              "  _uploadFilesContinue,\n",
              "};\n",
              "})(self);\n",
              "</script> "
            ]
          },
          "metadata": {}
        },
        {
          "output_type": "stream",
          "name": "stdout",
          "text": [
            "Saving AirportCodeLocationLookupClean.csv to AirportCodeLocationLookupClean.csv\n",
            "Saving FlightDelaysWithAirportCodes.csv to FlightDelaysWithAirportCodes.csv\n",
            "Saving FlightWeatherWithAirportCode.csv to FlightWeatherWithAirportCode.csv\n",
            "User uploaded file \"AirportCodeLocationLookupClean.csv\" with length 328194 bytes\n",
            "User uploaded file \"FlightDelaysWithAirportCodes.csv\" with length 407244623 bytes\n",
            "User uploaded file \"FlightWeatherWithAirportCode.csv\" with length 62556200 bytes\n"
          ]
        }
      ]
    },
    {
      "cell_type": "code",
      "execution_count": 2,
      "metadata": {
        "id": "bFaTbb4pt__p",
        "colab": {
          "base_uri": "https://localhost:8080/"
        },
        "outputId": "0c36f29c-e829-45c0-baae-af35d29dfc88"
      },
      "outputs": [
        {
          "output_type": "stream",
          "name": "stdout",
          "text": [
            "Collecting pyspark\n",
            "  Downloading pyspark-3.4.1.tar.gz (310.8 MB)\n",
            "\u001b[2K     \u001b[90m━━━━━━━━━━━━━━━━━━━━━━━━━━━━━━━━━━━━━━━\u001b[0m \u001b[32m310.8/310.8 MB\u001b[0m \u001b[31m2.9 MB/s\u001b[0m eta \u001b[36m0:00:00\u001b[0m\n",
            "\u001b[?25h  Preparing metadata (setup.py) ... \u001b[?25l\u001b[?25hdone\n",
            "Requirement already satisfied: py4j==0.10.9.7 in /usr/local/lib/python3.10/dist-packages (from pyspark) (0.10.9.7)\n",
            "Building wheels for collected packages: pyspark\n",
            "  Building wheel for pyspark (setup.py) ... \u001b[?25l\u001b[?25hdone\n",
            "  Created wheel for pyspark: filename=pyspark-3.4.1-py2.py3-none-any.whl size=311285398 sha256=16a871f33c22d1bbcdf993382bfdae45774ab00c7b67c0b5522a368c0449b58e\n",
            "  Stored in directory: /root/.cache/pip/wheels/0d/77/a3/ff2f74cc9ab41f8f594dabf0579c2a7c6de920d584206e0834\n",
            "Successfully built pyspark\n",
            "Installing collected packages: pyspark\n",
            "Successfully installed pyspark-3.4.1\n"
          ]
        }
      ],
      "source": [
        "!pip install pyspark"
      ]
    },
    {
      "cell_type": "code",
      "source": [
        "#import sparksession\n",
        "from pyspark.sql import SparkSession\n",
        "from pyspark.sql.types import StructType,StructField, StringType, IntegerType\n",
        "from pyspark.sql.types import ArrayType, DoubleType, BooleanType\n",
        "\n",
        "from pyspark.sql.functions import col,isnan, when, count"
      ],
      "metadata": {
        "id": "BmAVWmp06DTv"
      },
      "execution_count": 86,
      "outputs": []
    },
    {
      "cell_type": "code",
      "source": [
        "#create sparksession object and provide appName\n",
        "spark=SparkSession.builder.appName(\"Prueba_Local\").getOrCreate()"
      ],
      "metadata": {
        "id": "TPPt8M3_6HCI"
      },
      "execution_count": 4,
      "outputs": []
    },
    {
      "cell_type": "code",
      "source": [
        "#print spark version\n",
        "print(\"Apache Spark version: \", spark.version)"
      ],
      "metadata": {
        "id": "x7G5kQGa6NvZ",
        "colab": {
          "base_uri": "https://localhost:8080/"
        },
        "outputId": "bb2903f4-582b-4c1e-9ea6-17d2c67fd20b"
      },
      "execution_count": 5,
      "outputs": [
        {
          "output_type": "stream",
          "name": "stdout",
          "text": [
            "Apache Spark version:  3.4.1\n"
          ]
        }
      ]
    },
    {
      "cell_type": "markdown",
      "source": [
        "## Tablas"
      ],
      "metadata": {
        "id": "kHXRvak8Lvo1"
      }
    },
    {
      "cell_type": "markdown",
      "source": [
        "### _Tabla_ **AirportCodeLocationLookupClean**"
      ],
      "metadata": {
        "id": "9eCuAXbZ1slW"
      }
    },
    {
      "cell_type": "code",
      "source": [
        "schema_AirCode = StructType() \\\n",
        ".add(\"AIRPORT_ID\",IntegerType(),True) \\\n",
        ".add(\"AIRPORT\",StringType(),True) \\\n",
        ".add(\"DISPLAY_AIRPORT_NAM\",StringType(),True) \\\n",
        ".add(\"LATITUDE\",DoubleType(),True) \\\n",
        ".add(\"LONGITUDE\",DoubleType(),True)"
      ],
      "metadata": {
        "id": "ieADG0DHyy3c"
      },
      "execution_count": 22,
      "outputs": []
    },
    {
      "cell_type": "code",
      "source": [
        "df_AirCode = spark.read.format(\"csv\") \\\n",
        ".options(header='True', delimiter=',') \\\n",
        ".schema(schema_AirCode) \\\n",
        ".load(\"/content/AirportCodeLocationLookupClean.csv\")"
      ],
      "metadata": {
        "id": "BDuCmUjDxm1j"
      },
      "execution_count": 24,
      "outputs": []
    },
    {
      "cell_type": "code",
      "source": [
        "df_AirCode.printSchema()"
      ],
      "metadata": {
        "colab": {
          "base_uri": "https://localhost:8080/"
        },
        "id": "X2TaoH_oyFUg",
        "outputId": "0b5ccee3-9980-418d-c9e3-c655163dec6c"
      },
      "execution_count": 25,
      "outputs": [
        {
          "output_type": "stream",
          "name": "stdout",
          "text": [
            "root\n",
            " |-- AIRPORT_ID: integer (nullable = true)\n",
            " |-- AIRPORT: string (nullable = true)\n",
            " |-- DISPLAY_AIRPORT_NAM: string (nullable = true)\n",
            " |-- LATITUDE: double (nullable = true)\n",
            " |-- LONGITUDE: double (nullable = true)\n",
            "\n"
          ]
        }
      ]
    },
    {
      "cell_type": "code",
      "source": [
        "df_AirCode.show(truncate=False)"
      ],
      "metadata": {
        "id": "0ss4pXh_03lu"
      },
      "execution_count": null,
      "outputs": []
    },
    {
      "cell_type": "markdown",
      "source": [
        "### _Tabla_ **FlightDelaysWithAirportCodes**"
      ],
      "metadata": {
        "id": "W0tEqYxB18r7"
      }
    },
    {
      "cell_type": "code",
      "source": [
        "schema_FligtDelays = StructType() \\\n",
        ".add(\"Year\",IntegerType(),True) \\\n",
        ".add(\"Month\",IntegerType(),True) \\\n",
        ".add(\"DayofMonth\",IntegerType(),True) \\\n",
        ".add(\"DayOfWeek\",IntegerType(),True) \\\n",
        ".add(\"Carrier\",StringType(),True) \\\n",
        ".add(\"CRSDepTime\",IntegerType(),True) \\\n",
        ".add(\"DepDelay\",DoubleType(),True) \\\n",
        ".add(\"DepDel15\",DoubleType(),False) \\\n",
        ".add(\"CRSArrTime\",IntegerType(),True) \\\n",
        ".add(\"ArrDelay\",DoubleType(),True) \\\n",
        ".add(\"ArrDel15\",DoubleType(),True) \\\n",
        ".add(\"Cancelled\",DoubleType(),True) \\\n",
        ".add(\"OriginAirportCode\",StringType(),True) \\\n",
        ".add(\"OriginAirportName\",StringType(),True) \\\n",
        ".add(\"OriginLatitude\",DoubleType(),True) \\\n",
        ".add(\"OriginLongitude\",DoubleType(),True) \\\n",
        ".add(\"DestAirportCode\",StringType(),True) \\\n",
        ".add(\"DestAirportName\",StringType(),True) \\\n",
        ".add(\"DestLatitude\",DoubleType(),True) \\\n",
        ".add(\"DestLongitude\",DoubleType(),True)"
      ],
      "metadata": {
        "id": "FJvAsor216g3"
      },
      "execution_count": 92,
      "outputs": []
    },
    {
      "cell_type": "code",
      "source": [
        "df_FligtDelays = spark.read.format(\"csv\") \\\n",
        ".options(header='True', delimiter=',') \\\n",
        ".schema(schema_FligtDelays) \\\n",
        ".load(\"/content/FlightDelaysWithAirportCodes.csv\")"
      ],
      "metadata": {
        "id": "lfoSgD3e16g4"
      },
      "execution_count": 93,
      "outputs": []
    },
    {
      "cell_type": "code",
      "source": [
        "df_FligtDelays.printSchema()"
      ],
      "metadata": {
        "colab": {
          "base_uri": "https://localhost:8080/"
        },
        "outputId": "89d4c7b8-acc0-4212-b65a-57b7b647fc8a",
        "id": "LSypHB9416g5"
      },
      "execution_count": 94,
      "outputs": [
        {
          "output_type": "stream",
          "name": "stdout",
          "text": [
            "root\n",
            " |-- Year: integer (nullable = true)\n",
            " |-- Month: integer (nullable = true)\n",
            " |-- DayofMonth: integer (nullable = true)\n",
            " |-- DayOfWeek: integer (nullable = true)\n",
            " |-- Carrier: string (nullable = true)\n",
            " |-- CRSDepTime: integer (nullable = true)\n",
            " |-- DepDelay: double (nullable = true)\n",
            " |-- DepDel15: double (nullable = true)\n",
            " |-- CRSArrTime: integer (nullable = true)\n",
            " |-- ArrDelay: double (nullable = true)\n",
            " |-- ArrDel15: double (nullable = true)\n",
            " |-- Cancelled: double (nullable = true)\n",
            " |-- OriginAirportCode: string (nullable = true)\n",
            " |-- OriginAirportName: string (nullable = true)\n",
            " |-- OriginLatitude: double (nullable = true)\n",
            " |-- OriginLongitude: double (nullable = true)\n",
            " |-- DestAirportCode: string (nullable = true)\n",
            " |-- DestAirportName: string (nullable = true)\n",
            " |-- DestLatitude: double (nullable = true)\n",
            " |-- DestLongitude: double (nullable = true)\n",
            "\n"
          ]
        }
      ]
    },
    {
      "cell_type": "markdown",
      "source": [
        "### _Tabla_ **FlightWeatherWithAirportCode**"
      ],
      "metadata": {
        "id": "1ofZUYwE2FON"
      }
    },
    {
      "cell_type": "code",
      "source": [
        "schema_FlightWeather = StructType() \\\n",
        ".add(\"Year\",IntegerType(),True) \\\n",
        ".add(\"Month\",IntegerType(),True) \\\n",
        ".add(\"Day\",IntegerType(),True) \\\n",
        ".add(\"Time\",IntegerType(),True) \\\n",
        ".add(\"TimeZone\",DoubleType(),True) \\\n",
        ".add(\"SkyCondition\",StringType(),True) \\\n",
        ".add(\"Visibility\",DoubleType(),True) \\\n",
        ".add(\"WeatherType\",StringType(),True) \\\n",
        ".add(\"DryBulbFarenheit\",DoubleType(),True) \\\n",
        ".add(\"DryBulbCelsius\",DoubleType(),True) \\\n",
        ".add(\"WetBulbFarenheit\",DoubleType(),True) \\\n",
        ".add(\"WetBulbCelsius\",BooleanType(),True) \\\n",
        ".add(\"DewPointFarenheit\",DoubleType(),True) \\\n",
        ".add(\"DewPointCelsius\",DoubleType(),True) \\\n",
        ".add(\"RelativeHumidity\",DoubleType(),True) \\\n",
        ".add(\"WindSpeed\",DoubleType(),True) \\\n",
        ".add(\"WindDirection\",DoubleType(),True) \\\n",
        ".add(\"ValueForWindCharacter\",DoubleType(),True) \\\n",
        ".add(\"StationPressure\",DoubleType(),True) \\\n",
        ".add(\"PressureTendency\",DoubleType(),True) \\\n",
        ".add(\"PressureChange\",DoubleType(),True) \\\n",
        ".add(\"SeaLevelPressure\",DoubleType(),True) \\\n",
        ".add(\"RecordType\",StringType(),True) \\\n",
        ".add(\"HourlyPrecip\",StringType(),True) \\\n",
        ".add(\"Altimeter\",DoubleType(),True) \\\n",
        ".add(\"AirportCode\",StringType(),True) \\\n",
        ".add(\"DISPLAY_AIRPORT_NAME\",StringType(),True) \\\n",
        ".add(\"LATITUDE\",DoubleType(),True) \\\n",
        ".add(\"LONGITUDE\",DoubleType(),True)"
      ],
      "metadata": {
        "id": "G9Rnc0rq2D86"
      },
      "execution_count": 39,
      "outputs": []
    },
    {
      "cell_type": "code",
      "source": [
        "df_FlightWeather = spark.read.format(\"csv\") \\\n",
        ".options(header='True', delimiter=',') \\\n",
        ".schema(schema_FlightWeather) \\\n",
        ".load(\"/content/FlightWeatherWithAirportCode.csv\")"
      ],
      "metadata": {
        "id": "4EYBCYPA2D87"
      },
      "execution_count": 40,
      "outputs": []
    },
    {
      "cell_type": "code",
      "source": [
        "df_FlightWeather.printSchema()"
      ],
      "metadata": {
        "colab": {
          "base_uri": "https://localhost:8080/"
        },
        "id": "6qF_9TkO-Uvv",
        "outputId": "9b1b7c12-0f90-40dc-d0d1-08ada5c12346"
      },
      "execution_count": 41,
      "outputs": [
        {
          "output_type": "stream",
          "name": "stdout",
          "text": [
            "root\n",
            " |-- Year: integer (nullable = true)\n",
            " |-- Month: integer (nullable = true)\n",
            " |-- Day: integer (nullable = true)\n",
            " |-- Time: integer (nullable = true)\n",
            " |-- TimeZone: double (nullable = true)\n",
            " |-- SkyCondition: string (nullable = true)\n",
            " |-- Visibility: double (nullable = true)\n",
            " |-- WeatherType: string (nullable = true)\n",
            " |-- DryBulbFarenheit: double (nullable = true)\n",
            " |-- DryBulbCelsius: double (nullable = true)\n",
            " |-- WetBulbFarenheit: double (nullable = true)\n",
            " |-- WetBulbCelsius: boolean (nullable = true)\n",
            " |-- DewPointFarenheit: double (nullable = true)\n",
            " |-- DewPointCelsius: double (nullable = true)\n",
            " |-- RelativeHumidity: double (nullable = true)\n",
            " |-- WindSpeed: double (nullable = true)\n",
            " |-- WindDirection: double (nullable = true)\n",
            " |-- ValueForWindCharacter: double (nullable = true)\n",
            " |-- StationPressure: double (nullable = true)\n",
            " |-- PressureTendency: double (nullable = true)\n",
            " |-- PressureChange: double (nullable = true)\n",
            " |-- SeaLevelPressure: double (nullable = true)\n",
            " |-- RecordType: string (nullable = true)\n",
            " |-- HourlyPrecip: string (nullable = true)\n",
            " |-- Altimeter: double (nullable = true)\n",
            " |-- AirportCode: string (nullable = true)\n",
            " |-- DISPLAY_AIRPORT_NAME: string (nullable = true)\n",
            " |-- LATITUDE: double (nullable = true)\n",
            " |-- LONGITUDE: double (nullable = true)\n",
            "\n"
          ]
        }
      ]
    },
    {
      "cell_type": "markdown",
      "source": [
        "## Cálculos"
      ],
      "metadata": {
        "id": "_4SrYcZ1Lsyx"
      }
    },
    {
      "cell_type": "code",
      "source": [
        "df_FligtDelays.show(10,truncate=False)"
      ],
      "metadata": {
        "colab": {
          "base_uri": "https://localhost:8080/"
        },
        "id": "fOLoCo61OsID",
        "outputId": "40b62a75-babb-4d53-ba54-9cbd70d6fb3b"
      },
      "execution_count": 95,
      "outputs": [
        {
          "output_type": "stream",
          "name": "stdout",
          "text": [
            "+----+-----+----------+---------+-------+----------+--------+--------+----------+--------+--------+---------+-----------------+------------------------------------------+--------------+---------------+---------------+----------------------------------------+------------+-------------+\n",
            "|Year|Month|DayofMonth|DayOfWeek|Carrier|CRSDepTime|DepDelay|DepDel15|CRSArrTime|ArrDelay|ArrDel15|Cancelled|OriginAirportCode|OriginAirportName                         |OriginLatitude|OriginLongitude|DestAirportCode|DestAirportName                         |DestLatitude|DestLongitude|\n",
            "+----+-----+----------+---------+-------+----------+--------+--------+----------+--------+--------+---------+-----------------+------------------------------------------+--------------+---------------+---------------+----------------------------------------+------------+-------------+\n",
            "|2013|4    |19        |5        |DL     |837       |-3.0    |0.0     |1138      |1.0     |0.0     |0.0      |DTW              |Detroit Metro Wayne County                |42.2125       |-83.35333333   |MIA            |Miami International                     |25.79527778 |-80.29       |\n",
            "|2013|4    |19        |5        |DL     |1705      |0.0     |0.0     |2336      |-8.0    |0.0     |0.0      |SLC              |Salt Lake City International              |40.78833333   |-111.9777778   |JFK            |John F. Kennedy International           |40.64       |-73.77861111 |\n",
            "|2013|4    |19        |5        |DL     |600       |-4.0    |0.0     |851       |-15.0   |0.0     |0.0      |PDX              |Portland International                    |45.58861111   |-122.5969444   |SLC            |Salt Lake City International            |40.78833333 |-111.9777778 |\n",
            "|2013|4    |19        |5        |DL     |1630      |28.0    |1.0     |1903      |24.0    |1.0     |0.0      |STL              |Lambert-St. Louis International           |38.74861111   |-90.37         |DTW            |Detroit Metro Wayne County              |42.2125     |-83.35333333 |\n",
            "|2013|4    |19        |5        |DL     |1615      |-6.0    |0.0     |1805      |-11.0   |0.0     |0.0      |CVG              |Cincinnati/Northern Kentucky International|39.04888889   |-84.66777778   |LAX            |Los Angeles International               |33.9425     |-118.4080556 |\n",
            "|2013|4    |19        |5        |DL     |1726      |-1.0    |0.0     |1818      |-19.0   |0.0     |0.0      |ATL              |Hartsfield-Jackson Atlanta International  |33.63666667   |-84.42777778   |STL            |Lambert-St. Louis International         |38.74861111 |-90.37       |\n",
            "|2013|4    |19        |5        |DL     |1900      |0.0     |0.0     |2133      |-1.0    |0.0     |0.0      |STL              |Lambert-St. Louis International           |38.74861111   |-90.37         |ATL            |Hartsfield-Jackson Atlanta International|33.63666667 |-84.42777778 |\n",
            "|2013|4    |19        |5        |DL     |2145      |15.0    |1.0     |2356      |24.0    |1.0     |0.0      |ATL              |Hartsfield-Jackson Atlanta International  |33.63666667   |-84.42777778   |SLC            |Salt Lake City International            |40.78833333 |-111.9777778 |\n",
            "|2013|4    |19        |5        |DL     |2157      |33.0    |1.0     |2333      |34.0    |1.0     |0.0      |ATL              |Hartsfield-Jackson Atlanta International  |33.63666667   |-84.42777778   |AUS            |Austin - Bergstrom International        |30.19444444 |-97.67       |\n",
            "|2013|4    |19        |5        |DL     |1900      |323.0   |1.0     |2055      |322.0   |1.0     |0.0      |DCA              |Ronald Reagan Washington National         |38.85138889   |-77.03777778   |ATL            |Hartsfield-Jackson Atlanta International|33.63666667 |-84.42777778 |\n",
            "+----+-----+----------+---------+-------+----------+--------+--------+----------+--------+--------+---------+-----------------+------------------------------------------+--------------+---------------+---------------+----------------------------------------+------------+-------------+\n",
            "only showing top 10 rows\n",
            "\n"
          ]
        }
      ]
    },
    {
      "cell_type": "code",
      "source": [
        "rows = df_FligtDelays.count()\n",
        "print(f\"Recuento de filas del DataFrame FlightDelaysWithAirportCodes: {rows}\")"
      ],
      "metadata": {
        "colab": {
          "base_uri": "https://localhost:8080/"
        },
        "id": "WOqpFKy0_VPE",
        "outputId": "a707bf23-4bd5-419f-c894-92cc6ddbac28"
      },
      "execution_count": 96,
      "outputs": [
        {
          "output_type": "stream",
          "name": "stdout",
          "text": [
            "Recuento de filas del DataFrame FlightDelaysWithAirportCodes: 2719418\n"
          ]
        }
      ]
    },
    {
      "cell_type": "code",
      "source": [
        "null_DepDel = (df_FligtDelays.filter(df_FligtDelays.DepDel15.isNull()).count())\n",
        "print(f\"Recuento de valores nulos del campo DepDel15 del DataFrame FlightDelaysWithAirportCodes : {null_DepDel}\")"
      ],
      "metadata": {
        "colab": {
          "base_uri": "https://localhost:8080/"
        },
        "id": "kqblX_kcG-Vl",
        "outputId": "368d54e0-aff8-46a2-a305-482d45ca1511"
      },
      "execution_count": 97,
      "outputs": [
        {
          "output_type": "stream",
          "name": "stdout",
          "text": [
            "Recuento de valores nulos del campo DepDel15 del DataFrame FlightDelaysWithAirportCodes : 27444\n"
          ]
        }
      ]
    },
    {
      "cell_type": "markdown",
      "source": [
        "### Verificación que se hayan eliminado las filas con datos faltantes para la columna **DepDel15**"
      ],
      "metadata": {
        "id": "srvsgoxDRruu"
      }
    },
    {
      "cell_type": "code",
      "source": [
        "verif_rows = df_FligtDelays.filter(~df_FligtDelays.DepDel15.contains('None') & \\\n",
        "                ~df_FligtDelays.DepDel15.contains('NULL') & \\\n",
        "                ~isnan(df_FligtDelays.DepDel15) & \\\n",
        "                ~df_FligtDelays.DepDel15.isNull()).count()\n"
      ],
      "metadata": {
        "id": "FNG14uuLPis-"
      },
      "execution_count": 106,
      "outputs": []
    },
    {
      "cell_type": "code",
      "source": [
        "print(f\"Recuento de valores, luego de restar los nulos del campo DepDel15 del DataFrame FlightDelaysWithAirportCodes : {verif_rows}\")"
      ],
      "metadata": {
        "colab": {
          "base_uri": "https://localhost:8080/"
        },
        "id": "cJZrhiGkR79b",
        "outputId": "71a6c200-6c29-4220-aa4d-ec8b2a019af3"
      },
      "execution_count": 109,
      "outputs": [
        {
          "output_type": "stream",
          "name": "stdout",
          "text": [
            "Recuento de valores, luego de restar los nulos del campo DepDel15 del DataFrame FlightDelaysWithAirportCodes : 2691974\n"
          ]
        }
      ]
    },
    {
      "cell_type": "markdown",
      "source": [
        "### Preparar los datos meteorológicos"
      ],
      "metadata": {
        "id": "-qdOBfBXSXRm"
      }
    },
    {
      "cell_type": "code",
      "source": [
        "df_FlightWeather.show(10,truncate=False)"
      ],
      "metadata": {
        "colab": {
          "base_uri": "https://localhost:8080/"
        },
        "id": "NBO9qr8_SZ8r",
        "outputId": "f98b150f-2d69-4ed9-c5dc-4e92a7a3ceba"
      },
      "execution_count": 110,
      "outputs": [
        {
          "output_type": "stream",
          "name": "stdout",
          "text": [
            "+----+-----+---+----+--------+--------------------+----------+-----------+----------------+--------------+----------------+--------------+-----------------+---------------+----------------+---------+-------------+---------------------+---------------+----------------+--------------+----------------+----------+------------+---------+-----------+------------------------------+-----------+------------+\n",
            "|Year|Month|Day|Time|TimeZone|SkyCondition        |Visibility|WeatherType|DryBulbFarenheit|DryBulbCelsius|WetBulbFarenheit|WetBulbCelsius|DewPointFarenheit|DewPointCelsius|RelativeHumidity|WindSpeed|WindDirection|ValueForWindCharacter|StationPressure|PressureTendency|PressureChange|SeaLevelPressure|RecordType|HourlyPrecip|Altimeter|AirportCode|DISPLAY_AIRPORT_NAME          |LATITUDE   |LONGITUDE   |\n",
            "+----+-----+---+----+--------+--------------------+----------+-----------+----------------+--------------+----------------+--------------+-----------------+---------------+----------------+---------+-------------+---------------------+---------------+----------------+--------------+----------------+----------+------------+---------+-----------+------------------------------+-----------+------------+\n",
            "|2013|4    |1  |56  |-4.0    |FEW018 SCT044 BKN070|10.0      |-RA        |76.0            |24.4          |74.0            |null          |73.0             |22.8           |90.0            |13.0     |80.0         |null                 |30.06          |null            |null          |30.06           |AA        |T           |30.07    |SJU        |Luis Munoz Marin International|18.43944444|-66.00222222|\n",
            "|2013|4    |1  |156 |-4.0    |FEW037 SCT070       |10.0      |null       |76.0            |24.4          |73.0            |null          |71.0             |21.7           |85.0            |10.0     |90.0         |null                 |30.05          |6.0             |17.0          |30.05           |AA        |null        |30.06    |SJU        |Luis Munoz Marin International|18.43944444|-66.00222222|\n",
            "|2013|4    |1  |256 |-4.0    |FEW037 SCT070       |10.0      |null       |76.0            |24.4          |73.0            |null          |71.0             |21.7           |85.0            |9.0      |100.0        |null                 |30.03          |null            |null          |30.03           |AA        |null        |30.04    |SJU        |Luis Munoz Marin International|18.43944444|-66.00222222|\n",
            "|2013|4    |1  |356 |-4.0    |FEW025 SCT070       |10.0      |null       |76.0            |24.4          |72.0            |null          |70.0             |21.1           |82.0            |9.0      |100.0        |null                 |30.02          |null            |null          |30.03           |AA        |null        |30.03    |SJU        |Luis Munoz Marin International|18.43944444|-66.00222222|\n",
            "|2013|4    |1  |456 |-4.0    |FEW025              |10.0      |null       |76.0            |24.4          |72.0            |null          |70.0             |21.1           |82.0            |7.0      |110.0        |null                 |30.03          |5.0             |4.0           |30.04           |AA        |null        |30.04    |SJU        |Luis Munoz Marin International|18.43944444|-66.00222222|\n",
            "|2013|4    |1  |556 |-4.0    |FEW025 SCT080       |10.0      |null       |76.0            |24.4          |71.0            |null          |69.0             |20.6           |79.0            |7.0      |100.0        |null                 |30.04          |null            |null          |30.05           |AA        |null        |30.05    |SJU        |Luis Munoz Marin International|18.43944444|-66.00222222|\n",
            "|2013|4    |1  |656 |-4.0    |FEW028 BKN080       |10.0      |null       |77.0            |25.0          |71.0            |null          |68.0             |20.0           |74.0            |9.0      |110.0        |null                 |30.07          |null            |null          |30.07           |AA        |null        |30.08    |SJU        |Luis Munoz Marin International|18.43944444|-66.00222222|\n",
            "|2013|4    |1  |756 |-4.0    |FEW028 BKN080       |10.0      |null       |79.0            |26.1          |72.0            |null          |69.0             |20.6           |72.0            |13.0     |100.0        |null                 |30.09          |3.0             |20.0          |30.1            |AA        |null        |30.1     |SJU        |Luis Munoz Marin International|18.43944444|-66.00222222|\n",
            "|2013|4    |1  |856 |-4.0    |FEW030 BKN080       |10.0      |null       |82.0            |27.8          |73.0            |null          |69.0             |20.6           |65.0            |14.0     |100.0        |21.0                 |30.11          |null            |null          |30.11           |AA        |null        |30.12    |SJU        |Luis Munoz Marin International|18.43944444|-66.00222222|\n",
            "|2013|4    |1  |956 |-4.0    |SCT035 BKN090       |10.0      |null       |83.0            |28.3          |74.0            |null          |69.0             |20.6           |63.0            |16.0     |90.0         |23.0                 |30.11          |null            |null          |30.12           |AA        |null        |30.12    |SJU        |Luis Munoz Marin International|18.43944444|-66.00222222|\n",
            "+----+-----+---+----+--------+--------------------+----------+-----------+----------------+--------------+----------------+--------------+-----------------+---------------+----------------+---------+-------------+---------------------+---------------+----------------+--------------+----------------+----------+------------+---------+-----------+------------------------------+-----------+------------+\n",
            "only showing top 10 rows\n",
            "\n"
          ]
        }
      ]
    },
    {
      "cell_type": "code",
      "source": [
        "df_FlightWeather.createOrReplaceTempView(\"flight_weather_with_airport_code\")"
      ],
      "metadata": {
        "id": "JLpl5RWPVb8e"
      },
      "execution_count": null,
      "outputs": []
    },
    {
      "cell_type": "code",
      "source": [
        "rows_weather = df_FlightWeather.count()\n",
        "print(f\"Recuento de filas del DataFrame FlightWeatherWithAirportCode: {rows_weather}\")"
      ],
      "metadata": {
        "colab": {
          "base_uri": "https://localhost:8080/"
        },
        "id": "o2UmTEPoSlah",
        "outputId": "9b191815-edd0-43b5-b6fe-4f5a96527634"
      },
      "execution_count": 111,
      "outputs": [
        {
          "output_type": "stream",
          "name": "stdout",
          "text": [
            "Recuento de filas del DataFrame FlightWeatherWithAirportCode: 406516\n"
          ]
        }
      ]
    },
    {
      "cell_type": "code",
      "source": [
        "spark.sql('select count(*) from flight_weather_with_airport_code').show()"
      ],
      "metadata": {
        "colab": {
          "base_uri": "https://localhost:8080/"
        },
        "id": "yeBMgXrMUVrf",
        "outputId": "54da0653-110b-4bf5-a74e-681af8fe346d"
      },
      "execution_count": 115,
      "outputs": [
        {
          "output_type": "stream",
          "name": "stdout",
          "text": [
            "+--------+\n",
            "|count(1)|\n",
            "+--------+\n",
            "|  406516|\n",
            "+--------+\n",
            "\n"
          ]
        }
      ]
    },
    {
      "cell_type": "markdown",
      "source": [
        "## _No me salio la parte de R_"
      ],
      "metadata": {
        "id": "aW9e6VUrYbO0"
      }
    },
    {
      "cell_type": "markdown",
      "source": [
        "### WindSpeed"
      ],
      "metadata": {
        "id": "DIOOxTZKUo9i"
      }
    },
    {
      "cell_type": "code",
      "source": [
        "from pyspark.sql.functions import countDistinct\n",
        "\n",
        "df_distcount_weather = df_FlightWeather.select(countDistinct(\"WindSpeed\"))\n",
        "df_distcount_weather.show()"
      ],
      "metadata": {
        "colab": {
          "base_uri": "https://localhost:8080/"
        },
        "id": "YLv9Xf7gTHMC",
        "outputId": "11c385d5-d066-47dd-cf9b-fa9bf1980ddc"
      },
      "execution_count": 121,
      "outputs": [
        {
          "output_type": "stream",
          "name": "stdout",
          "text": [
            "+-------------------------+\n",
            "|count(DISTINCT WindSpeed)|\n",
            "+-------------------------+\n",
            "|                       45|\n",
            "+-------------------------+\n",
            "\n"
          ]
        }
      ]
    },
    {
      "cell_type": "code",
      "source": [
        "spark.sql('select distinct WindSpeed from flight_weather_with_airport_code').show(45)"
      ],
      "metadata": {
        "colab": {
          "base_uri": "https://localhost:8080/"
        },
        "id": "cZFd_iw8Tlbi",
        "outputId": "505f32c6-6192-4a65-c851-b118aaacc655"
      },
      "execution_count": 117,
      "outputs": [
        {
          "output_type": "stream",
          "name": "stdout",
          "text": [
            "+---------+\n",
            "|WindSpeed|\n",
            "+---------+\n",
            "|      8.0|\n",
            "|      0.0|\n",
            "|      7.0|\n",
            "|     29.0|\n",
            "|     47.0|\n",
            "|     44.0|\n",
            "|     null|\n",
            "|     62.0|\n",
            "|     18.0|\n",
            "|     39.0|\n",
            "|     34.0|\n",
            "|     37.0|\n",
            "|     25.0|\n",
            "|     36.0|\n",
            "|     41.0|\n",
            "|     23.0|\n",
            "|     45.0|\n",
            "|     31.0|\n",
            "|     11.0|\n",
            "|     21.0|\n",
            "|     51.0|\n",
            "|     14.0|\n",
            "|     22.0|\n",
            "|      3.0|\n",
            "|     19.0|\n",
            "|     53.0|\n",
            "|     46.0|\n",
            "|     28.0|\n",
            "|     17.0|\n",
            "|     38.0|\n",
            "|     10.0|\n",
            "|     30.0|\n",
            "|     40.0|\n",
            "|     13.0|\n",
            "|     33.0|\n",
            "|      6.0|\n",
            "|     20.0|\n",
            "|     32.0|\n",
            "|     15.0|\n",
            "|      5.0|\n",
            "|     24.0|\n",
            "|      9.0|\n",
            "|     26.0|\n",
            "|     16.0|\n",
            "|     43.0|\n",
            "+---------+\n",
            "only showing top 45 rows\n",
            "\n"
          ]
        }
      ]
    },
    {
      "cell_type": "markdown",
      "source": [
        "### SeaLevelPressure"
      ],
      "metadata": {
        "id": "T2iaBVeEU13f"
      }
    },
    {
      "cell_type": "code",
      "source": [
        "df_distcount_SeaLevelPressure = df_FlightWeather.select(countDistinct(\"SeaLevelPressure\"))\n",
        "df_distcount_SeaLevelPressure.show()"
      ],
      "metadata": {
        "colab": {
          "base_uri": "https://localhost:8080/"
        },
        "id": "y8nImlBiVK3H",
        "outputId": "09dadd33-04fa-4065-ad7d-6f7091cbe9aa"
      },
      "execution_count": 120,
      "outputs": [
        {
          "output_type": "stream",
          "name": "stdout",
          "text": [
            "+--------------------------------+\n",
            "|count(DISTINCT SeaLevelPressure)|\n",
            "+--------------------------------+\n",
            "|                             182|\n",
            "+--------------------------------+\n",
            "\n"
          ]
        }
      ]
    },
    {
      "cell_type": "code",
      "source": [
        "spark.sql('select distinct SeaLevelPressure from flight_weather_with_airport_code').show()"
      ],
      "metadata": {
        "colab": {
          "base_uri": "https://localhost:8080/"
        },
        "id": "MtIjhcbjUgi0",
        "outputId": "70b95f19-40ab-4932-dd7c-3727a800f2c8"
      },
      "execution_count": 122,
      "outputs": [
        {
          "output_type": "stream",
          "name": "stdout",
          "text": [
            "+----------------+\n",
            "|SeaLevelPressure|\n",
            "+----------------+\n",
            "|           30.49|\n",
            "|           29.47|\n",
            "|           29.74|\n",
            "|           29.42|\n",
            "|           29.93|\n",
            "|           30.73|\n",
            "|           29.77|\n",
            "|           29.83|\n",
            "|           30.28|\n",
            "|           29.36|\n",
            "|           29.84|\n",
            "|           30.56|\n",
            "|           29.78|\n",
            "|           29.37|\n",
            "|           29.69|\n",
            "|           29.97|\n",
            "|           30.46|\n",
            "|           30.58|\n",
            "|           30.68|\n",
            "|           30.76|\n",
            "+----------------+\n",
            "only showing top 20 rows\n",
            "\n"
          ]
        }
      ]
    },
    {
      "cell_type": "markdown",
      "source": [
        "### HourlyPrecip"
      ],
      "metadata": {
        "id": "PXrk6fhbVkrB"
      }
    },
    {
      "cell_type": "code",
      "source": [
        "spark.sql('select distinct HourlyPrecip from flight_weather_with_airport_code').show()"
      ],
      "metadata": {
        "colab": {
          "base_uri": "https://localhost:8080/"
        },
        "id": "XjMlHmmMU0et",
        "outputId": "a1384e92-916c-4b87-afd0-c877b1c47900"
      },
      "execution_count": 123,
      "outputs": [
        {
          "output_type": "stream",
          "name": "stdout",
          "text": [
            "+------------+\n",
            "|HourlyPrecip|\n",
            "+------------+\n",
            "|        0.55|\n",
            "|        0.07|\n",
            "|        0.75|\n",
            "|        0.59|\n",
            "|        1.53|\n",
            "|        2.49|\n",
            "|        0.32|\n",
            "|        0.03|\n",
            "|        0.11|\n",
            "|        1.23|\n",
            "|        1.68|\n",
            "|        1.41|\n",
            "|        0.60|\n",
            "|        1.85|\n",
            "|        0.31|\n",
            "|        0.73|\n",
            "|        0.14|\n",
            "|        0.74|\n",
            "|        0.78|\n",
            "|        0.57|\n",
            "+------------+\n",
            "only showing top 20 rows\n",
            "\n"
          ]
        }
      ]
    },
    {
      "cell_type": "markdown",
      "source": [
        "### Limpiar datos meteorológicos - preparación del DataSet"
      ],
      "metadata": {
        "id": "JJbvIFpDVwXj"
      }
    },
    {
      "cell_type": "code",
      "source": [
        "dfWeather = spark.sql(\"select AirportCode, cast(Month as int) Month, cast(Day as int) Day, cast(Time as int) Time, WindSpeed, SeaLevelPressure, HourlyPrecip from flight_weather_with_airport_code\")"
      ],
      "metadata": {
        "id": "hh3p7jLIVzjX"
      },
      "execution_count": 124,
      "outputs": []
    },
    {
      "cell_type": "code",
      "source": [
        "dfWeather.show()"
      ],
      "metadata": {
        "colab": {
          "base_uri": "https://localhost:8080/"
        },
        "id": "t2OYEWqSWE29",
        "outputId": "5f0ce94e-9abd-4b50-ca19-7d2ded8cb0cf"
      },
      "execution_count": 125,
      "outputs": [
        {
          "output_type": "stream",
          "name": "stdout",
          "text": [
            "+-----------+-----+---+----+---------+----------------+------------+\n",
            "|AirportCode|Month|Day|Time|WindSpeed|SeaLevelPressure|HourlyPrecip|\n",
            "+-----------+-----+---+----+---------+----------------+------------+\n",
            "|        SJU|    4|  1|  56|     13.0|           30.06|           T|\n",
            "|        SJU|    4|  1| 156|     10.0|           30.05|        null|\n",
            "|        SJU|    4|  1| 256|      9.0|           30.03|        null|\n",
            "|        SJU|    4|  1| 356|      9.0|           30.03|        null|\n",
            "|        SJU|    4|  1| 456|      7.0|           30.04|        null|\n",
            "|        SJU|    4|  1| 556|      7.0|           30.05|        null|\n",
            "|        SJU|    4|  1| 656|      9.0|           30.07|        null|\n",
            "|        SJU|    4|  1| 756|     13.0|            30.1|        null|\n",
            "|        SJU|    4|  1| 856|     14.0|           30.11|        null|\n",
            "|        SJU|    4|  1| 956|     16.0|           30.12|        null|\n",
            "|        SJU|    4|  1|1056|     17.0|           30.12|        null|\n",
            "|        SJU|    4|  1|1156|     16.0|            30.1|        null|\n",
            "|        SJU|    4|  1|1256|     16.0|           30.08|        null|\n",
            "|        SJU|    4|  1|1356|     20.0|           30.05|        null|\n",
            "|        SJU|    4|  1|1456|     18.0|           30.03|        null|\n",
            "|        SJU|    4|  1|1556|     20.0|           30.02|        null|\n",
            "|        SJU|    4|  1|1656|     15.0|           30.03|        null|\n",
            "|        SJU|    4|  1|1756|     18.0|           30.03|        null|\n",
            "|        SJU|    4|  1|1856|     11.0|           30.05|        null|\n",
            "|        SJU|    4|  1|1956|     11.0|           30.06|        null|\n",
            "+-----------+-----+---+----+---------+----------------+------------+\n",
            "only showing top 20 rows\n",
            "\n"
          ]
        }
      ]
    },
    {
      "cell_type": "code",
      "source": [
        "pprint.pprint(dfWeather.dtypes)"
      ],
      "metadata": {
        "colab": {
          "base_uri": "https://localhost:8080/"
        },
        "id": "qCgAyKthWMI5",
        "outputId": "36eaf4f8-915d-46a8-84bd-8d2f14d41081"
      },
      "execution_count": 126,
      "outputs": [
        {
          "output_type": "stream",
          "name": "stdout",
          "text": [
            "[('AirportCode', 'string'),\n",
            " ('Month', 'int'),\n",
            " ('Day', 'int'),\n",
            " ('Time', 'int'),\n",
            " ('WindSpeed', 'double'),\n",
            " ('SeaLevelPressure', 'double'),\n",
            " ('HourlyPrecip', 'string')]\n"
          ]
        }
      ]
    },
    {
      "cell_type": "code",
      "source": [
        "# Round Time down to the next hour, since that is the hour for which we want to use flight data. Then, add the rounded Time to a new column named \"Hour\", and append that column to the dfWeather DataFrame.\n",
        "df = dfWeather.withColumn('Hour', F.floor(dfWeather['Time']/100))\n",
        "\n",
        "# Replace any missing HourlyPrecip and WindSpeed values with 0.0\n",
        "df = df.fillna('0.0', subset=['HourlyPrecip', 'WindSpeed'])\n",
        "\n",
        "# Replace any WindSpeed values of \"M\" with 0.005\n",
        "df = df.replace('M', '0.005', 'WindSpeed')\n",
        "\n",
        "# Replace any SeaLevelPressure values of \"M\" with 29.92 (the average pressure)\n",
        "df = df.replace('M', '29.92', 'SeaLevelPressure')\n",
        "\n",
        "# Replace any HourlyPrecip values of \"T\" (trace) with 0.005\n",
        "df = df.replace('T', '0.005', 'HourlyPrecip')\n",
        "\n",
        "# Be sure to convert WindSpeed, SeaLevelPressure, and HourlyPrecip columns to float\n",
        "# Define a new DataFrame that includes just the columns being used by the model, including the new Hour feature\n",
        "dfWeather_clean = df.select('AirportCode', 'Month', 'Day', 'Hour', df['WindSpeed'].cast('float'), df['SeaLevelPressure'].cast('float'), df['HourlyPrecip'].cast('float'))"
      ],
      "metadata": {
        "id": "I2DFHbUqWSrU"
      },
      "execution_count": 143,
      "outputs": []
    },
    {
      "cell_type": "code",
      "source": [
        "display(dfWeather_clean)"
      ],
      "metadata": {
        "colab": {
          "base_uri": "https://localhost:8080/",
          "height": 34
        },
        "id": "81YM0qwQWXlw",
        "outputId": "084ebc3a-4770-4682-8e66-6131444aafeb"
      },
      "execution_count": 144,
      "outputs": [
        {
          "output_type": "display_data",
          "data": {
            "text/plain": [
              "DataFrame[AirportCode: string, Month: int, Day: int, Hour: bigint, WindSpeed: float, SeaLevelPressure: float, HourlyPrecip: float]"
            ]
          },
          "metadata": {}
        }
      ]
    },
    {
      "cell_type": "code",
      "source": [
        "pprint.pprint(dfWeather_clean.dtypes)"
      ],
      "metadata": {
        "colab": {
          "base_uri": "https://localhost:8080/"
        },
        "id": "2GnC9bueWaBb",
        "outputId": "52ce5b29-830f-4467-99af-715941ed41d5"
      },
      "execution_count": 145,
      "outputs": [
        {
          "output_type": "stream",
          "name": "stdout",
          "text": [
            "[('AirportCode', 'string'),\n",
            " ('Month', 'int'),\n",
            " ('Day', 'int'),\n",
            " ('Hour', 'bigint'),\n",
            " ('WindSpeed', 'float'),\n",
            " ('SeaLevelPressure', 'float'),\n",
            " ('HourlyPrecip', 'float')]\n"
          ]
        }
      ]
    },
    {
      "cell_type": "code",
      "source": [
        "dfWeather_clean.write.mode(\"overwrite\").saveAsTable(\"flight_weather_clean\")"
      ],
      "metadata": {
        "id": "XPG2wPbtWctc"
      },
      "execution_count": 146,
      "outputs": []
    },
    {
      "cell_type": "code",
      "source": [
        "dfWeather_clean.select(\"*\").count()"
      ],
      "metadata": {
        "colab": {
          "base_uri": "https://localhost:8080/"
        },
        "id": "WnRL0ROyWflY",
        "outputId": "6d6f8b35-7102-478f-8cb4-075ec7b28eeb"
      },
      "execution_count": 147,
      "outputs": [
        {
          "output_type": "execute_result",
          "data": {
            "text/plain": [
              "406516"
            ]
          },
          "metadata": {},
          "execution_count": 147
        }
      ]
    }
  ]
}