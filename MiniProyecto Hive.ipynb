{
  "nbformat": 4,
  "nbformat_minor": 0,
  "metadata": {
    "colab": {
      "name": "template_miniproyecto_1_hive.ipynb",
      "provenance": [],
      "collapsed_sections": []
    },
    "kernelspec": {
      "name": "python3",
      "display_name": "Python 3"
    }
  },
  "cells": [
    {
      "cell_type": "markdown",
      "metadata": {
        "id": "9NnHUnYdCC2k"
      },
      "source": [
        "# Mini-Tarea 1: Análisis de datos de preferencias musicales\n",
        "\n",
        "La presente actividad debe ser realizada de forma individual. El formato de entregar es el archivo .ipynb con todas las celdas ejecutadas. Las secciones donde se planteen preguntas de forma explícita, deben ser respondida en celdas de texto, y no se aceptará solo el output de una celda de código como respuesta.\n",
        "\n",
        "**Fecha de entrega:** martes 13 de octubre de 2020, 09:00 hrs.\n",
        "\n",
        "**Nombre alumno:** Darwin Joan Pérez Avendaño.\n"
      ]
    },
    {
      "cell_type": "markdown",
      "metadata": {
        "id": "VveixMBZM7SL"
      },
      "source": [
        "# Apache Hive"
      ]
    },
    {
      "cell_type": "markdown",
      "metadata": {
        "id": "rirmIh6RM-yQ"
      },
      "source": [
        "## Instalación de ambiente"
      ]
    },
    {
      "cell_type": "code",
      "metadata": {
        "id": "lpdN1mgS-fTY",
        "outputId": "d8e67bdc-3f90-48b3-d7bf-a24bb68a9794",
        "colab": {
          "resources": {
            "http://localhost:8080/nbextensions/google.colab/files.js": {
              "data": "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",
              "ok": true,
              "headers": [
                [
                  "content-type",
                  "application/javascript"
                ]
              ],
              "status": 200,
              "status_text": ""
            }
          },
          "base_uri": "https://localhost:8080/",
          "height": 87
        }
      },
      "source": [
        "from google.colab import files\n",
        "\n",
        "uploaded = files.upload()\n",
        "\n",
        "for fn in uploaded.keys():\n",
        "  print('User uploaded file \"{name}\" with length {length} bytes'.format(\n",
        "      name=fn, length=len(uploaded[fn])))"
      ],
      "execution_count": 1,
      "outputs": [
        {
          "output_type": "display_data",
          "data": {
            "text/html": [
              "\n",
              "     <input type=\"file\" id=\"files-bffe65db-d4f7-4c31-967c-e37c3ec2b8b8\" name=\"files[]\" multiple disabled\n",
              "        style=\"border:none\" />\n",
              "     <output id=\"result-bffe65db-d4f7-4c31-967c-e37c3ec2b8b8\">\n",
              "      Upload widget is only available when the cell has been executed in the\n",
              "      current browser session. Please rerun this cell to enable.\n",
              "      </output>\n",
              "      <script src=\"/nbextensions/google.colab/files.js\"></script> "
            ],
            "text/plain": [
              "<IPython.core.display.HTML object>"
            ]
          },
          "metadata": {
            "tags": []
          }
        },
        {
          "output_type": "stream",
          "text": [
            "Saving hadoop_colab_installer.py to hadoop_colab_installer.py\n",
            "User uploaded file \"hadoop_colab_installer.py\" with length 13493 bytes\n"
          ],
          "name": "stdout"
        }
      ]
    },
    {
      "cell_type": "code",
      "metadata": {
        "id": "vO73ol-jNCdc",
        "outputId": "dd41688b-262a-4e06-a383-4e67aac6bab2",
        "colab": {
          "base_uri": "https://localhost:8080/",
          "height": 151
        }
      },
      "source": [
        "exec(open('hadoop_colab_installer.py').read())"
      ],
      "execution_count": 2,
      "outputs": [
        {
          "output_type": "stream",
          "text": [
            "Active services:\n",
            "2080 NodeManager\n",
            "1780 DataNode\n",
            "1624 ResourceManager\n",
            "2153 JobHistoryServer\n",
            "2201 Jps\n",
            "1709 NameNode\n",
            "\n"
          ],
          "name": "stdout"
        }
      ]
    },
    {
      "cell_type": "markdown",
      "metadata": {
        "id": "G7HaKsAfQvK0"
      },
      "source": [
        "## Descarga de dataset"
      ]
    },
    {
      "cell_type": "code",
      "metadata": {
        "id": "lhwOW-7i2xQv",
        "outputId": "68c3884f-2c2f-4ad7-b2ce-a9c9a082ab5d",
        "colab": {
          "base_uri": "https://localhost:8080/",
          "height": 33
        }
      },
      "source": [
        "!wget -q --show-progress http://mtg.upf.edu/static/datasets/last.fm/lastfm-dataset-1K.tar.gz\n",
        "!tar xzf lastfm-dataset-1K.tar.gz"
      ],
      "execution_count": 3,
      "outputs": [
        {
          "output_type": "stream",
          "text": [
            "lastfm-dataset-1K.t 100%[===================>] 641.58M  1.69MB/s    in 7m 12s  \n"
          ],
          "name": "stdout"
        }
      ]
    },
    {
      "cell_type": "markdown",
      "metadata": {
        "id": "2qwA_neHOb18"
      },
      "source": [
        "## Actividad 0"
      ]
    },
    {
      "cell_type": "code",
      "metadata": {
        "id": "CL-3tLZg6wI5"
      },
      "source": [
        "!ls"
      ],
      "execution_count": null,
      "outputs": []
    },
    {
      "cell_type": "code",
      "metadata": {
        "id": "Y92CxpTLOjlq"
      },
      "source": [
        "!hdfs dfs -mkdir hdfs_user_dir\n",
        "!hdfs dfs -mkdir hdfs_profile_dir"
      ],
      "execution_count": 4,
      "outputs": []
    },
    {
      "cell_type": "code",
      "metadata": {
        "id": "l5-m7NGaOkbz"
      },
      "source": [
        "!hdfs dfs -put lastfm-dataset-1K/userid-profile.tsv hdfs_user_dir\n",
        "!hdfs dfs -put lastfm-dataset-1K/userid-timestamp-artid-artname-traid-traname.tsv hdfs_profile_dir"
      ],
      "execution_count": 5,
      "outputs": []
    },
    {
      "cell_type": "code",
      "metadata": {
        "id": "wJvP_DwgP4kr",
        "outputId": "a618124c-62a4-459e-f3cc-94c3d1a36bcd",
        "colab": {
          "base_uri": "https://localhost:8080/",
          "height": 84
        }
      },
      "source": [
        "!hdfs dfs -ls  hdfs_user_dir\n",
        "!hdfs dfs -ls  hdfs_profile_dir"
      ],
      "execution_count": 6,
      "outputs": [
        {
          "output_type": "stream",
          "text": [
            "Found 1 items\n",
            "-rw-r--r--   1 root supergroup      37842 2020-10-13 03:58 hdfs_user_dir/userid-profile.tsv\n",
            "Found 1 items\n",
            "-rw-r--r--   1 root supergroup 2529193595 2020-10-13 03:59 hdfs_profile_dir/userid-timestamp-artid-artname-traid-traname.tsv\n"
          ],
          "name": "stdout"
        }
      ]
    },
    {
      "cell_type": "markdown",
      "metadata": {
        "id": "T-Birtpdmr_y"
      },
      "source": [
        "## Carga de tablas en **HiveQl**\n",
        "\n"
      ]
    },
    {
      "cell_type": "code",
      "metadata": {
        "id": "ju6hwNeNQXea",
        "outputId": "e7c44d93-0d85-489f-8340-52a6729ade0e",
        "colab": {
          "base_uri": "https://localhost:8080/",
          "height": 33
        }
      },
      "source": [
        "%%writefile create_tables_usuario_profile.sql\n",
        "CREATE TABLE usuario (userid STRING, gender STRING, age INT, country STRING, signup STRING) ROW FORMAT DELIMITED FIELDS TERMINATED BY '\\t';\n",
        "LOAD DATA INPATH 'hdfs_user_dir/userid-profile.tsv' INTO table usuario;\n",
        "\n",
        "CREATE TABLE profile (userid STRING, times_tamp STRING, musicbrainz_artist_id STRING, artist_name STRING, musicbrainz_track_id STRING, track_name STRING) ROW FORMAT DELIMITED FIELDS TERMINATED BY '\\t';\n",
        "LOAD DATA INPATH 'hdfs_profile_dir/userid-timestamp-artid-artname-traid-traname.tsv' INTO table profile;\n"
      ],
      "execution_count": 7,
      "outputs": [
        {
          "output_type": "stream",
          "text": [
            "Writing create_tables_usuario_profile.sql\n"
          ],
          "name": "stdout"
        }
      ]
    },
    {
      "cell_type": "code",
      "metadata": {
        "id": "Too-uUFysDsw",
        "outputId": "4a1dd4c0-0773-49bd-9802-28622f0d1369",
        "colab": {
          "base_uri": "https://localhost:8080/",
          "height": 302
        }
      },
      "source": [
        "!hive -f create_tables_usuario_profile.sql"
      ],
      "execution_count": 8,
      "outputs": [
        {
          "output_type": "stream",
          "text": [
            "SLF4J: Class path contains multiple SLF4J bindings.\n",
            "SLF4J: Found binding in [jar:file:/content/apache-hive-2.3.7-bin/lib/log4j-slf4j-impl-2.6.2.jar!/org/slf4j/impl/StaticLoggerBinder.class]\n",
            "SLF4J: Found binding in [jar:file:/content/hadoop-2.10.0/share/hadoop/common/lib/slf4j-log4j12-1.7.25.jar!/org/slf4j/impl/StaticLoggerBinder.class]\n",
            "SLF4J: See http://www.slf4j.org/codes.html#multiple_bindings for an explanation.\n",
            "SLF4J: Actual binding is of type [org.apache.logging.slf4j.Log4jLoggerFactory]\n",
            "\n",
            "Logging initialized using configuration in jar:file:/content/apache-hive-2.3.7-bin/lib/hive-common-2.3.7.jar!/hive-log4j2.properties Async: true\n",
            "OK\n",
            "Time taken: 9.627 seconds\n",
            "Loading data to table default.usuario\n",
            "OK\n",
            "Time taken: 1.529 seconds\n",
            "OK\n",
            "Time taken: 0.212 seconds\n",
            "Loading data to table default.profile\n",
            "OK\n",
            "Time taken: 0.566 seconds\n"
          ],
          "name": "stdout"
        }
      ]
    },
    {
      "cell_type": "markdown",
      "metadata": {
        "id": "ew-qZSCxOgZ0"
      },
      "source": [
        "## Actividad 1"
      ]
    },
    {
      "cell_type": "code",
      "metadata": {
        "id": "lrjDIE8T0Zfb",
        "outputId": "26e06433-5afe-46ea-836e-d26a271edd26",
        "colab": {
          "base_uri": "https://localhost:8080/",
          "height": 33
        }
      },
      "source": [
        "%%writefile artista_mas_popular.sql\n",
        "SELECT artist_name, COUNT(musicbrainz_track_id) AS Conteo FROM profile \n",
        "GROUP BY artist_name\n",
        "ORDER BY Conteo DESC\n",
        "LIMIT 10;"
      ],
      "execution_count": 9,
      "outputs": [
        {
          "output_type": "stream",
          "text": [
            "Writing artista_mas_popular.sql\n"
          ],
          "name": "stdout"
        }
      ]
    },
    {
      "cell_type": "code",
      "metadata": {
        "id": "RBB_WY5W0cdz",
        "outputId": "82a5eaad-0a56-4966-e3e2-e064b4ef54d9",
        "colab": {
          "base_uri": "https://localhost:8080/",
          "height": 1000
        }
      },
      "source": [
        "!hive -f artista_mas_popular.sql"
      ],
      "execution_count": 10,
      "outputs": [
        {
          "output_type": "stream",
          "text": [
            "SLF4J: Class path contains multiple SLF4J bindings.\n",
            "SLF4J: Found binding in [jar:file:/content/apache-hive-2.3.7-bin/lib/log4j-slf4j-impl-2.6.2.jar!/org/slf4j/impl/StaticLoggerBinder.class]\n",
            "SLF4J: Found binding in [jar:file:/content/hadoop-2.10.0/share/hadoop/common/lib/slf4j-log4j12-1.7.25.jar!/org/slf4j/impl/StaticLoggerBinder.class]\n",
            "SLF4J: See http://www.slf4j.org/codes.html#multiple_bindings for an explanation.\n",
            "SLF4J: Actual binding is of type [org.apache.logging.slf4j.Log4jLoggerFactory]\n",
            "\n",
            "Logging initialized using configuration in jar:file:/content/apache-hive-2.3.7-bin/lib/hive-common-2.3.7.jar!/hive-log4j2.properties Async: true\n",
            "WARNING: Hive-on-MR is deprecated in Hive 2 and may not be available in the future versions. Consider using a different execution engine (i.e. spark, tez) or using Hive 1.X releases.\n",
            "Query ID = root_20201013040102_a1180c69-19c4-495a-94c0-e420bcd83f1d\n",
            "Total jobs = 2\n",
            "Launching Job 1 out of 2\n",
            "Number of reduce tasks not specified. Estimated from input data size: 10\n",
            "In order to change the average load for a reducer (in bytes):\n",
            "  set hive.exec.reducers.bytes.per.reducer=<number>\n",
            "In order to limit the maximum number of reducers:\n",
            "  set hive.exec.reducers.max=<number>\n",
            "In order to set a constant number of reducers:\n",
            "  set mapreduce.job.reduces=<number>\n",
            "Starting Job = job_1602560951563_0001, Tracking URL = http://7f248f2130ff:8088/proxy/application_1602560951563_0001/\n",
            "Kill Command = /content/hadoop/bin/hadoop job  -kill job_1602560951563_0001\n",
            "Hadoop job information for Stage-1: number of mappers: 10; number of reducers: 10\n",
            "2020-10-13 04:01:25,977 Stage-1 map = 0%,  reduce = 0%\n",
            "2020-10-13 04:02:09,810 Stage-1 map = 13%,  reduce = 0%, Cumulative CPU 37.32 sec\n",
            "2020-10-13 04:02:10,921 Stage-1 map = 20%,  reduce = 0%, Cumulative CPU 42.63 sec\n",
            "2020-10-13 04:02:15,498 Stage-1 map = 27%,  reduce = 0%, Cumulative CPU 44.49 sec\n",
            "2020-10-13 04:02:16,630 Stage-1 map = 50%,  reduce = 0%, Cumulative CPU 53.25 sec\n",
            "2020-10-13 04:02:17,714 Stage-1 map = 60%,  reduce = 0%, Cumulative CPU 54.28 sec\n",
            "2020-10-13 04:02:48,151 Stage-1 map = 60%,  reduce = 2%, Cumulative CPU 72.77 sec\n",
            "2020-10-13 04:02:50,310 Stage-1 map = 70%,  reduce = 4%, Cumulative CPU 74.17 sec\n",
            "2020-10-13 04:02:52,478 Stage-1 map = 77%,  reduce = 4%, Cumulative CPU 82.57 sec\n",
            "2020-10-13 04:02:55,778 Stage-1 map = 77%,  reduce = 5%, Cumulative CPU 82.71 sec\n",
            "2020-10-13 04:02:56,866 Stage-1 map = 87%,  reduce = 5%, Cumulative CPU 87.09 sec\n",
            "2020-10-13 04:02:57,947 Stage-1 map = 93%,  reduce = 5%, Cumulative CPU 89.51 sec\n",
            "2020-10-13 04:02:59,074 Stage-1 map = 100%,  reduce = 5%, Cumulative CPU 90.54 sec\n",
            "2020-10-13 04:03:00,218 Stage-1 map = 100%,  reduce = 7%, Cumulative CPU 90.8 sec\n",
            "2020-10-13 04:03:02,490 Stage-1 map = 100%,  reduce = 12%, Cumulative CPU 91.76 sec\n",
            "2020-10-13 04:03:05,885 Stage-1 map = 100%,  reduce = 13%, Cumulative CPU 93.54 sec\n",
            "2020-10-13 04:03:08,118 Stage-1 map = 100%,  reduce = 16%, Cumulative CPU 95.47 sec\n",
            "2020-10-13 04:03:09,211 Stage-1 map = 100%,  reduce = 20%, Cumulative CPU 96.83 sec\n",
            "2020-10-13 04:03:13,746 Stage-1 map = 100%,  reduce = 30%, Cumulative CPU 100.07 sec\n",
            "2020-10-13 04:03:26,228 Stage-1 map = 100%,  reduce = 40%, Cumulative CPU 103.32 sec\n",
            "2020-10-13 04:03:28,472 Stage-1 map = 100%,  reduce = 50%, Cumulative CPU 106.7 sec\n",
            "2020-10-13 04:03:29,588 Stage-1 map = 100%,  reduce = 60%, Cumulative CPU 109.99 sec\n",
            "2020-10-13 04:03:35,130 Stage-1 map = 100%,  reduce = 80%, Cumulative CPU 116.24 sec\n",
            "2020-10-13 04:03:37,263 Stage-1 map = 100%,  reduce = 90%, Cumulative CPU 119.07 sec\n",
            "2020-10-13 04:03:39,365 Stage-1 map = 100%,  reduce = 100%, Cumulative CPU 121.88 sec\n",
            "MapReduce Total cumulative CPU time: 2 minutes 1 seconds 880 msec\n",
            "Ended Job = job_1602560951563_0001\n",
            "Launching Job 2 out of 2\n",
            "Number of reduce tasks determined at compile time: 1\n",
            "In order to change the average load for a reducer (in bytes):\n",
            "  set hive.exec.reducers.bytes.per.reducer=<number>\n",
            "In order to limit the maximum number of reducers:\n",
            "  set hive.exec.reducers.max=<number>\n",
            "In order to set a constant number of reducers:\n",
            "  set mapreduce.job.reduces=<number>\n",
            "Starting Job = job_1602560951563_0002, Tracking URL = http://7f248f2130ff:8088/proxy/application_1602560951563_0002/\n",
            "Kill Command = /content/hadoop/bin/hadoop job  -kill job_1602560951563_0002\n",
            "Hadoop job information for Stage-2: number of mappers: 1; number of reducers: 1\n",
            "2020-10-13 04:03:53,336 Stage-2 map = 0%,  reduce = 0%\n",
            "2020-10-13 04:04:00,683 Stage-2 map = 100%,  reduce = 0%, Cumulative CPU 5.11 sec\n",
            "2020-10-13 04:04:06,951 Stage-2 map = 100%,  reduce = 100%, Cumulative CPU 6.91 sec\n",
            "MapReduce Total cumulative CPU time: 6 seconds 910 msec\n",
            "Ended Job = job_1602560951563_0002\n",
            "MapReduce Jobs Launched: \n",
            "Stage-Stage-1: Map: 10  Reduce: 10   Cumulative CPU: 121.88 sec   HDFS Read: 2529349498 HDFS Write: 6290492 SUCCESS\n",
            "Stage-Stage-2: Map: 1  Reduce: 1   Cumulative CPU: 6.91 sec   HDFS Read: 6298486 HDFS Write: 387 SUCCESS\n",
            "Total MapReduce CPU Time Spent: 2 minutes 8 seconds 790 msec\n",
            "OK\n",
            "artist_name\tconteo\n",
            "Radiohead\t115209\n",
            "The Beatles\t100338\n",
            "Nine Inch Nails\t84421\n",
            "Muse\t63351\n",
            "Coldplay\t62251\n",
            "Depeche Mode\t59910\n",
            "Pink Floyd\t58561\n",
            "Death Cab For Cutie\t58083\n",
            "Placebo\t53543\n",
            "Elliott Smith\t50278\n",
            "Time taken: 185.134 seconds, Fetched: 10 row(s)\n"
          ],
          "name": "stdout"
        }
      ]
    },
    {
      "cell_type": "markdown",
      "metadata": {
        "id": "etiQ4ivuZphe"
      },
      "source": [
        "Responda la siguiente pregunta:\n",
        "\n",
        "¿ Cuál es el artista más popular y el menos popular del ranking top-10 ?\n",
        "\n",
        "***R.*** El artista más popular del **Top-10** es **Radiohead** y el artista menos popular del **Top-10** es **Elliott Smith**.\n"
      ]
    },
    {
      "cell_type": "markdown",
      "metadata": {
        "id": "dMUgQZPHOjP6"
      },
      "source": [
        "## Actividad 2"
      ]
    },
    {
      "cell_type": "code",
      "metadata": {
        "id": "wriDE_iLwnmW",
        "outputId": "ac1a6b3a-5f7a-4218-b115-ecb5db764b96",
        "colab": {
          "base_uri": "https://localhost:8080/",
          "height": 33
        }
      },
      "source": [
        "%%writefile distribucion_por_genero.sql\n",
        "SELECT gender, count(musicbrainz_track_id) AS Conteo FROM profile INNER JOIN usuario ON usuario.userid = profile.userid \n",
        "WHERE  length(gender) > 0 AND artist_name = 'Radiohead'\n",
        "GROUP BY gender;"
      ],
      "execution_count": 11,
      "outputs": [
        {
          "output_type": "stream",
          "text": [
            "Writing distribucion_por_genero.sql\n"
          ],
          "name": "stdout"
        }
      ]
    },
    {
      "cell_type": "code",
      "metadata": {
        "id": "aJJxQ2ewwo4M",
        "outputId": "81103ceb-4fbb-462f-83ec-8903bd718283",
        "colab": {
          "base_uri": "https://localhost:8080/",
          "height": 1000
        }
      },
      "source": [
        "!hive -f distribucion_por_genero.sql"
      ],
      "execution_count": 12,
      "outputs": [
        {
          "output_type": "stream",
          "text": [
            "SLF4J: Class path contains multiple SLF4J bindings.\n",
            "SLF4J: Found binding in [jar:file:/content/apache-hive-2.3.7-bin/lib/log4j-slf4j-impl-2.6.2.jar!/org/slf4j/impl/StaticLoggerBinder.class]\n",
            "SLF4J: Found binding in [jar:file:/content/hadoop-2.10.0/share/hadoop/common/lib/slf4j-log4j12-1.7.25.jar!/org/slf4j/impl/StaticLoggerBinder.class]\n",
            "SLF4J: See http://www.slf4j.org/codes.html#multiple_bindings for an explanation.\n",
            "SLF4J: Actual binding is of type [org.apache.logging.slf4j.Log4jLoggerFactory]\n",
            "\n",
            "Logging initialized using configuration in jar:file:/content/apache-hive-2.3.7-bin/lib/hive-common-2.3.7.jar!/hive-log4j2.properties Async: true\n",
            "WARNING: Hive-on-MR is deprecated in Hive 2 and may not be available in the future versions. Consider using a different execution engine (i.e. spark, tez) or using Hive 1.X releases.\n",
            "Query ID = root_20201013040856_565ad8eb-4151-4079-986e-945e47ab1696\n",
            "Total jobs = 1\n",
            "SLF4J: Class path contains multiple SLF4J bindings.\n",
            "SLF4J: Found binding in [jar:file:/content/apache-hive-2.3.7-bin/lib/log4j-slf4j-impl-2.6.2.jar!/org/slf4j/impl/StaticLoggerBinder.class]\n",
            "SLF4J: Found binding in [jar:file:/content/hadoop-2.10.0/share/hadoop/common/lib/slf4j-log4j12-1.7.25.jar!/org/slf4j/impl/StaticLoggerBinder.class]\n",
            "SLF4J: See http://www.slf4j.org/codes.html#multiple_bindings for an explanation.\n",
            "SLF4J: Actual binding is of type [org.apache.logging.slf4j.Log4jLoggerFactory]\n",
            "2020-10-13 04:09:14\tStarting to launch local task to process map join;\tmaximum memory = 477626368\n",
            "2020-10-13 04:09:16\tDump the side-table for tag: 1 with group count: 885 into file: file:/tmp/root/12b52262-2792-4979-9e7e-23ff3e122771/hive_2020-10-13_04-08-56_804_5004902321498147007-1/-local-10005/HashTable-Stage-2/MapJoin-mapfile01--.hashtable\n",
            "2020-10-13 04:09:16\tUploaded 1 File to: file:/tmp/root/12b52262-2792-4979-9e7e-23ff3e122771/hive_2020-10-13_04-08-56_804_5004902321498147007-1/-local-10005/HashTable-Stage-2/MapJoin-mapfile01--.hashtable (28715 bytes)\n",
            "2020-10-13 04:09:16\tEnd of local task; Time Taken: 1.562 sec.\n",
            "Execution completed successfully\n",
            "MapredLocal task succeeded\n",
            "Launching Job 1 out of 1\n",
            "Number of reduce tasks not specified. Estimated from input data size: 10\n",
            "In order to change the average load for a reducer (in bytes):\n",
            "  set hive.exec.reducers.bytes.per.reducer=<number>\n",
            "In order to limit the maximum number of reducers:\n",
            "  set hive.exec.reducers.max=<number>\n",
            "In order to set a constant number of reducers:\n",
            "  set mapreduce.job.reduces=<number>\n",
            "Starting Job = job_1602560951563_0003, Tracking URL = http://7f248f2130ff:8088/proxy/application_1602560951563_0003/\n",
            "Kill Command = /content/hadoop/bin/hadoop job  -kill job_1602560951563_0003\n",
            "Hadoop job information for Stage-2: number of mappers: 10; number of reducers: 10\n",
            "2020-10-13 04:09:26,034 Stage-2 map = 0%,  reduce = 0%\n",
            "2020-10-13 04:10:09,414 Stage-2 map = 13%,  reduce = 0%, Cumulative CPU 41.42 sec\n",
            "2020-10-13 04:10:10,583 Stage-2 map = 20%,  reduce = 0%, Cumulative CPU 44.67 sec\n",
            "2020-10-13 04:10:14,984 Stage-2 map = 40%,  reduce = 0%, Cumulative CPU 49.35 sec\n",
            "2020-10-13 04:10:16,062 Stage-2 map = 60%,  reduce = 0%, Cumulative CPU 54.87 sec\n",
            "2020-10-13 04:10:46,307 Stage-2 map = 70%,  reduce = 0%, Cumulative CPU 75.48 sec\n",
            "2020-10-13 04:10:47,463 Stage-2 map = 70%,  reduce = 2%, Cumulative CPU 75.78 sec\n",
            "2020-10-13 04:10:48,527 Stage-2 map = 70%,  reduce = 4%, Cumulative CPU 76.07 sec\n",
            "2020-10-13 04:10:49,620 Stage-2 map = 77%,  reduce = 4%, Cumulative CPU 81.76 sec\n",
            "2020-10-13 04:10:50,728 Stage-2 map = 80%,  reduce = 4%, Cumulative CPU 84.24 sec\n",
            "2020-10-13 04:10:52,916 Stage-2 map = 100%,  reduce = 5%, Cumulative CPU 87.82 sec\n",
            "2020-10-13 04:10:54,054 Stage-2 map = 100%,  reduce = 9%, Cumulative CPU 88.12 sec\n",
            "2020-10-13 04:10:59,806 Stage-2 map = 100%,  reduce = 13%, Cumulative CPU 89.86 sec\n",
            "2020-10-13 04:11:00,917 Stage-2 map = 100%,  reduce = 20%, Cumulative CPU 92.6 sec\n",
            "2020-10-13 04:11:07,616 Stage-2 map = 100%,  reduce = 30%, Cumulative CPU 95.45 sec\n",
            "2020-10-13 04:11:18,813 Stage-2 map = 100%,  reduce = 40%, Cumulative CPU 97.91 sec\n",
            "2020-10-13 04:11:19,955 Stage-2 map = 100%,  reduce = 60%, Cumulative CPU 103.16 sec\n",
            "2020-10-13 04:11:25,434 Stage-2 map = 100%,  reduce = 70%, Cumulative CPU 105.79 sec\n",
            "2020-10-13 04:11:26,522 Stage-2 map = 100%,  reduce = 80%, Cumulative CPU 108.35 sec\n",
            "2020-10-13 04:11:28,603 Stage-2 map = 100%,  reduce = 90%, Cumulative CPU 110.56 sec\n",
            "2020-10-13 04:11:30,648 Stage-2 map = 100%,  reduce = 100%, Cumulative CPU 112.35 sec\n",
            "MapReduce Total cumulative CPU time: 1 minutes 52 seconds 350 msec\n",
            "Ended Job = job_1602560951563_0003\n",
            "MapReduce Jobs Launched: \n",
            "Stage-Stage-2: Map: 10  Reduce: 10   Cumulative CPU: 112.35 sec   HDFS Read: 2529398948 HDFS Write: 910 SUCCESS\n",
            "Total MapReduce CPU Time Spent: 1 minutes 52 seconds 350 msec\n",
            "OK\n",
            "gender\tconteo\n",
            "f\t43748\n",
            "m\t63784\n",
            "Time taken: 155.067 seconds, Fetched: 2 row(s)\n"
          ],
          "name": "stdout"
        }
      ]
    },
    {
      "cell_type": "markdown",
      "metadata": {
        "id": "hGYLdDpLZwJA"
      },
      "source": [
        "Responda la siguiente pregunta:\n",
        "\n",
        "¿ Cuál es la cantidad de hombres y mujeres que han escuchado alguna canción del artista más popular ?\n",
        "\n",
        "***R.*** Un total de **43748 Mujeres** y un total de **63784 Hombres** han escuchado alguna canción de **Radiohead**.\n"
      ]
    },
    {
      "cell_type": "markdown",
      "metadata": {
        "id": "oCpp3dzyOmPh"
      },
      "source": [
        "## Actividad 3"
      ]
    },
    {
      "cell_type": "code",
      "metadata": {
        "id": "KvEaO0txZ0xR",
        "outputId": "69f949c2-f10e-4d58-bc54-f7986edbfd0b",
        "colab": {
          "base_uri": "https://localhost:8080/",
          "height": 33
        }
      },
      "source": [
        "%%writefile distribucion_por_edad.sql\n",
        "SELECT age, count(musicbrainz_track_id) AS Conteo FROM profile INNER JOIN usuario ON usuario.userid = profile.userid \n",
        "WHERE age > 0 AND artist_name = 'Radiohead' AND age < 36\n",
        "GROUP BY age\n",
        "ORDER BY age ASC;"
      ],
      "execution_count": 13,
      "outputs": [
        {
          "output_type": "stream",
          "text": [
            "Writing distribucion_por_edad.sql\n"
          ],
          "name": "stdout"
        }
      ]
    },
    {
      "cell_type": "code",
      "metadata": {
        "id": "eD5Zt_-mtEoJ",
        "outputId": "cf370bfb-8f1d-4107-8c1c-679029fa0a53",
        "colab": {
          "base_uri": "https://localhost:8080/",
          "height": 1000
        }
      },
      "source": [
        "!hive -f distribucion_por_edad.sql"
      ],
      "execution_count": 14,
      "outputs": [
        {
          "output_type": "stream",
          "text": [
            "SLF4J: Class path contains multiple SLF4J bindings.\n",
            "SLF4J: Found binding in [jar:file:/content/apache-hive-2.3.7-bin/lib/log4j-slf4j-impl-2.6.2.jar!/org/slf4j/impl/StaticLoggerBinder.class]\n",
            "SLF4J: Found binding in [jar:file:/content/hadoop-2.10.0/share/hadoop/common/lib/slf4j-log4j12-1.7.25.jar!/org/slf4j/impl/StaticLoggerBinder.class]\n",
            "SLF4J: See http://www.slf4j.org/codes.html#multiple_bindings for an explanation.\n",
            "SLF4J: Actual binding is of type [org.apache.logging.slf4j.Log4jLoggerFactory]\n",
            "\n",
            "Logging initialized using configuration in jar:file:/content/apache-hive-2.3.7-bin/lib/hive-common-2.3.7.jar!/hive-log4j2.properties Async: true\n",
            "WARNING: Hive-on-MR is deprecated in Hive 2 and may not be available in the future versions. Consider using a different execution engine (i.e. spark, tez) or using Hive 1.X releases.\n",
            "Query ID = root_20201013041138_da87711f-2ef6-4d14-a7f1-5e7ee760e3b1\n",
            "Total jobs = 2\n",
            "SLF4J: Class path contains multiple SLF4J bindings.\n",
            "SLF4J: Found binding in [jar:file:/content/apache-hive-2.3.7-bin/lib/log4j-slf4j-impl-2.6.2.jar!/org/slf4j/impl/StaticLoggerBinder.class]\n",
            "SLF4J: Found binding in [jar:file:/content/hadoop-2.10.0/share/hadoop/common/lib/slf4j-log4j12-1.7.25.jar!/org/slf4j/impl/StaticLoggerBinder.class]\n",
            "SLF4J: See http://www.slf4j.org/codes.html#multiple_bindings for an explanation.\n",
            "SLF4J: Actual binding is of type [org.apache.logging.slf4j.Log4jLoggerFactory]\n",
            "2020-10-13 04:11:56\tStarting to launch local task to process map join;\tmaximum memory = 477626368\n",
            "2020-10-13 04:11:57\tDump the side-table for tag: 1 with group count: 268 into file: file:/tmp/root/758c019f-517b-448a-bb27-29c51d981871/hive_2020-10-13_04-11-38_768_6467380480669703501-1/-local-10006/HashTable-Stage-2/MapJoin-mapfile01--.hashtable\n",
            "2020-10-13 04:11:58\tUploaded 1 File to: file:/tmp/root/758c019f-517b-448a-bb27-29c51d981871/hive_2020-10-13_04-11-38_768_6467380480669703501-1/-local-10006/HashTable-Stage-2/MapJoin-mapfile01--.hashtable (8608 bytes)\n",
            "2020-10-13 04:11:58\tEnd of local task; Time Taken: 1.688 sec.\n",
            "Execution completed successfully\n",
            "MapredLocal task succeeded\n",
            "Launching Job 1 out of 2\n",
            "Number of reduce tasks not specified. Estimated from input data size: 10\n",
            "In order to change the average load for a reducer (in bytes):\n",
            "  set hive.exec.reducers.bytes.per.reducer=<number>\n",
            "In order to limit the maximum number of reducers:\n",
            "  set hive.exec.reducers.max=<number>\n",
            "In order to set a constant number of reducers:\n",
            "  set mapreduce.job.reduces=<number>\n",
            "Starting Job = job_1602560951563_0004, Tracking URL = http://7f248f2130ff:8088/proxy/application_1602560951563_0004/\n",
            "Kill Command = /content/hadoop/bin/hadoop job  -kill job_1602560951563_0004\n",
            "Hadoop job information for Stage-2: number of mappers: 10; number of reducers: 10\n",
            "2020-10-13 04:12:07,933 Stage-2 map = 0%,  reduce = 0%\n",
            "2020-10-13 04:12:51,202 Stage-2 map = 17%,  reduce = 0%, Cumulative CPU 42.22 sec\n",
            "2020-10-13 04:12:52,302 Stage-2 map = 20%,  reduce = 0%, Cumulative CPU 44.06 sec\n",
            "2020-10-13 04:12:54,623 Stage-2 map = 33%,  reduce = 0%, Cumulative CPU 46.44 sec\n",
            "2020-10-13 04:12:55,713 Stage-2 map = 60%,  reduce = 0%, Cumulative CPU 51.76 sec\n",
            "2020-10-13 04:13:26,995 Stage-2 map = 60%,  reduce = 2%, Cumulative CPU 70.17 sec\n",
            "2020-10-13 04:13:28,071 Stage-2 map = 70%,  reduce = 4%, Cumulative CPU 72.7 sec\n",
            "2020-10-13 04:13:29,160 Stage-2 map = 73%,  reduce = 4%, Cumulative CPU 75.15 sec\n",
            "2020-10-13 04:13:30,251 Stage-2 map = 80%,  reduce = 4%, Cumulative CPU 80.61 sec\n",
            "2020-10-13 04:13:32,419 Stage-2 map = 87%,  reduce = 4%, Cumulative CPU 81.75 sec\n",
            "2020-10-13 04:13:33,516 Stage-2 map = 100%,  reduce = 4%, Cumulative CPU 84.65 sec\n",
            "2020-10-13 04:13:34,650 Stage-2 map = 100%,  reduce = 9%, Cumulative CPU 85.06 sec\n",
            "2020-10-13 04:13:39,173 Stage-2 map = 100%,  reduce = 14%, Cumulative CPU 86.87 sec\n",
            "2020-10-13 04:13:40,277 Stage-2 map = 100%,  reduce = 20%, Cumulative CPU 88.93 sec\n",
            "2020-10-13 04:13:49,172 Stage-2 map = 100%,  reduce = 30%, Cumulative CPU 91.38 sec\n",
            "2020-10-13 04:13:58,184 Stage-2 map = 100%,  reduce = 50%, Cumulative CPU 95.98 sec\n",
            "2020-10-13 04:13:59,282 Stage-2 map = 100%,  reduce = 60%, Cumulative CPU 98.63 sec\n",
            "2020-10-13 04:14:04,767 Stage-2 map = 100%,  reduce = 80%, Cumulative CPU 103.19 sec\n",
            "2020-10-13 04:14:07,943 Stage-2 map = 100%,  reduce = 90%, Cumulative CPU 105.26 sec\n",
            "2020-10-13 04:14:08,976 Stage-2 map = 100%,  reduce = 100%, Cumulative CPU 107.53 sec\n",
            "MapReduce Total cumulative CPU time: 1 minutes 47 seconds 530 msec\n",
            "Ended Job = job_1602560951563_0004\n",
            "Launching Job 2 out of 2\n",
            "Number of reduce tasks determined at compile time: 1\n",
            "In order to change the average load for a reducer (in bytes):\n",
            "  set hive.exec.reducers.bytes.per.reducer=<number>\n",
            "In order to limit the maximum number of reducers:\n",
            "  set hive.exec.reducers.max=<number>\n",
            "In order to set a constant number of reducers:\n",
            "  set mapreduce.job.reduces=<number>\n",
            "Starting Job = job_1602560951563_0005, Tracking URL = http://7f248f2130ff:8088/proxy/application_1602560951563_0005/\n",
            "Kill Command = /content/hadoop/bin/hadoop job  -kill job_1602560951563_0005\n",
            "Hadoop job information for Stage-3: number of mappers: 1; number of reducers: 1\n",
            "2020-10-13 04:14:23,526 Stage-3 map = 0%,  reduce = 0%\n",
            "2020-10-13 04:14:29,788 Stage-3 map = 100%,  reduce = 0%, Cumulative CPU 2.0 sec\n",
            "2020-10-13 04:14:36,071 Stage-3 map = 100%,  reduce = 100%, Cumulative CPU 3.89 sec\n",
            "MapReduce Total cumulative CPU time: 3 seconds 890 msec\n",
            "Ended Job = job_1602560951563_0005\n",
            "MapReduce Jobs Launched: \n",
            "Stage-Stage-2: Map: 10  Reduce: 10   Cumulative CPU: 107.53 sec   HDFS Read: 2529390698 HDFS Write: 1451 SUCCESS\n",
            "Stage-Stage-3: Map: 1  Reduce: 1   Cumulative CPU: 3.89 sec   HDFS Read: 9252 HDFS Write: 544 SUCCESS\n",
            "Total MapReduce CPU Time Spent: 1 minutes 51 seconds 420 msec\n",
            "OK\n",
            "age\tconteo\n",
            "3\t2\n",
            "4\t14\n",
            "7\t2\n",
            "15\t2\n",
            "16\t122\n",
            "17\t444\n",
            "18\t65\n",
            "19\t4514\n",
            "20\t5760\n",
            "21\t1589\n",
            "22\t7038\n",
            "23\t2552\n",
            "24\t1313\n",
            "25\t1289\n",
            "26\t2527\n",
            "27\t2360\n",
            "28\t1330\n",
            "29\t359\n",
            "30\t617\n",
            "31\t146\n",
            "32\t433\n",
            "33\t1441\n",
            "34\t404\n",
            "35\t1543\n",
            "Time taken: 179.507 seconds, Fetched: 24 row(s)\n"
          ],
          "name": "stdout"
        }
      ]
    },
    {
      "cell_type": "markdown",
      "metadata": {
        "id": "oRS4jTvWZ2Us"
      },
      "source": [
        "Responda la siguiente pregunta:\n",
        "\n",
        "¿ Cuántos usuarios de 35 años han escuchado al artista más popular ?\n",
        "\n",
        "***R.*** **1543** usuarios de una edad de 35 años han escuchado **Radiohead**."
      ]
    }
  ]
}